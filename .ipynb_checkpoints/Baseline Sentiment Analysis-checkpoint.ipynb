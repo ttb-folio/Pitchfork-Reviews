{
 "cells": [
  {
   "cell_type": "code",
   "execution_count": 1,
   "id": "1e13e838",
   "metadata": {},
   "outputs": [],
   "source": [
    "import pandas as pd\n",
    "import numpy as np\n",
    "from sklearn.model_selection import train_test_split\n",
    "from sklearn.feature_extraction.text import CountVectorizer\n",
    "from sklearn.dummy import DummyClassifier\n",
    "from sklearn.linear_model import LogisticRegression\n",
    "from sklearn.metrics import log_loss, confusion_matrix"
   ]
  },
  {
   "cell_type": "code",
   "execution_count": 16,
   "id": "08e4081c",
   "metadata": {},
   "outputs": [],
   "source": [
    "content_df = pd.read_csv('Data/content.csv')\n",
    "review_df = pd.read_csv('Data/reviews.csv')\n",
    "text = content_df.content.fillna(' ').values\n",
    "labels = review_df.score.apply(lambda x: int(x<= review_df.score.quantile(0.5)))\n",
    "\n",
    "text_train, text_test, y_train, y_test = train_test_split(text, labels, test_size=0.2, random_state=1000)"
   ]
  },
  {
   "cell_type": "code",
   "execution_count": 18,
   "id": "38cdf902",
   "metadata": {},
   "outputs": [],
   "source": [
    "#Tokenize Review Content\n",
    "tokenizer = CountVectorizer()\n",
    "x_train = tokenizer.fit_transform(text_train)\n",
    "x_test = tokenizer.transform(text_test)"
   ]
  },
  {
   "cell_type": "code",
   "execution_count": 19,
   "id": "a5b3402e",
   "metadata": {},
   "outputs": [
    {
     "name": "stdout",
     "output_type": "stream",
     "text": [
      "\n",
      "Random Log Loss: 0.6931471805599452\n",
      "\n",
      "Random Confusion Matrix:\n",
      " [[863 939]\n",
      " [933 940]]\n",
      "\n",
      "LR Log Loss: 0.9934604800866259\n",
      "\n",
      "LR Confusion Matrix:\n",
      " [[1256  546]\n",
      " [ 538 1335]]\n"
     ]
    },
    {
     "name": "stderr",
     "output_type": "stream",
     "text": [
      "/Users/tylerbell/opt/anaconda3/envs/myenv/lib/python3.8/site-packages/sklearn/linear_model/_logistic.py:763: ConvergenceWarning: lbfgs failed to converge (status=1):\n",
      "STOP: TOTAL NO. of ITERATIONS REACHED LIMIT.\n",
      "\n",
      "Increase the number of iterations (max_iter) or scale the data as shown in:\n",
      "    https://scikit-learn.org/stable/modules/preprocessing.html\n",
      "Please also refer to the documentation for alternative solver options:\n",
      "    https://scikit-learn.org/stable/modules/linear_model.html#logistic-regression\n",
      "  n_iter_i = _check_optimize_result(\n"
     ]
    }
   ],
   "source": [
    "classifier = DummyClassifier(strategy = 'uniform')\n",
    "classifier.fit(x_train, y_train)\n",
    "\n",
    "print(f'\\nRandom Log Loss: {log_loss(y_test, classifier.predict_proba(x_test))}')\n",
    "print(f'\\nRandom Confusion Matrix:\\n {confusion_matrix(y_test, classifier.predict(x_test))}')\n",
    "\n",
    "classifier = LogisticRegression(max_iter = 1000)\n",
    "classifier.fit(x_train, y_train)\n",
    "print(f'\\nLR Log Loss: {log_loss(y_test, classifier.predict_proba(x_test))}')\n",
    "print(f'\\nLR Confusion Matrix:\\n {confusion_matrix(y_test, classifier.predict(x_test))}')"
   ]
  }
 ],
 "metadata": {
  "kernelspec": {
   "display_name": "Python 3",
   "language": "python",
   "name": "python3"
  },
  "language_info": {
   "codemirror_mode": {
    "name": "ipython",
    "version": 3
   },
   "file_extension": ".py",
   "mimetype": "text/x-python",
   "name": "python",
   "nbconvert_exporter": "python",
   "pygments_lexer": "ipython3",
   "version": "3.8.8"
  }
 },
 "nbformat": 4,
 "nbformat_minor": 5
}
