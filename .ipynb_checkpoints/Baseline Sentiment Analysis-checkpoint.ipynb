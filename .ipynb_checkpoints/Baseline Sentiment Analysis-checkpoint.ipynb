{
 "cells": [
  {
   "cell_type": "code",
   "execution_count": 42,
   "id": "1e13e838",
   "metadata": {},
   "outputs": [],
   "source": [
    "import pandas as pd\n",
    "import numpy as np\n",
    "from sklearn.model_selection import train_test_split\n",
    "from sklearn.feature_extraction.text import CountVectorizer\n",
    "from sklearn.linear_model import LogisticRegression\n",
    "from sklearn.metrics import f1_score\n",
    "from transformers import AutoTokenizer\n",
    "import xgboost as xgb"
   ]
  },
  {
   "cell_type": "code",
   "execution_count": 38,
   "id": "239fb087",
   "metadata": {},
   "outputs": [],
   "source": [
    "#Toy dataset. Review content on scale of a few sentences rather than a few paragraphs\n",
    "toy_df = pd.read_csv('amazon_cells_labelled.txt',  names=['review', 'sentiment'], sep='\\t')\n",
    "\n",
    "reviews = df['review'].values\n",
    "labels = df['sentiment'].values\n",
    "reviews_train, reviews_test, y_train, y_test = train_test_split(reviews, labels, test_size=0.2, random_state=1000)"
   ]
  },
  {
   "cell_type": "markdown",
   "id": "2b963238",
   "metadata": {},
   "source": [
    "With random guessing we get an f1 score of around 0.5 which makes sense."
   ]
  },
  {
   "cell_type": "code",
   "execution_count": 39,
   "id": "0e6d4837",
   "metadata": {},
   "outputs": [],
   "source": [
    "predictions = np.random.randint(2, size = len(y_test))"
   ]
  },
  {
   "cell_type": "code",
   "execution_count": 40,
   "id": "22dd6fb3",
   "metadata": {},
   "outputs": [
    {
     "data": {
      "text/plain": [
       "0.4824120603015075"
      ]
     },
     "execution_count": 40,
     "metadata": {},
     "output_type": "execute_result"
    }
   ],
   "source": [
    "f1_score(predictions, y_test)"
   ]
  },
  {
   "cell_type": "markdown",
   "id": "9b3c9f66",
   "metadata": {},
   "source": [
    "Now lets try a simple ootb tokenizer and Linear Regression Model"
   ]
  },
  {
   "cell_type": "code",
   "execution_count": 66,
   "id": "cb9c5d76",
   "metadata": {},
   "outputs": [
    {
     "data": {
      "text/plain": [
       "0.7916666666666666"
      ]
     },
     "execution_count": 66,
     "metadata": {},
     "output_type": "execute_result"
    }
   ],
   "source": [
    "tokenizer = CountVectorizer()\n",
    "\n",
    "x_train = tokenizer.fit_transform(reviews_train)\n",
    "x_test = tokenizer.transform(reviews_test)\n",
    "\n",
    "classifier = LogisticRegression()\n",
    "classifier.fit(x_train, y_train)\n",
    "\n",
    "prediction = classifier.predict(x_test)\n",
    "\n",
    "f1_score(prediction, y_test)"
   ]
  },
  {
   "cell_type": "markdown",
   "id": "532c0541",
   "metadata": {},
   "source": [
    "Now xgBoost on simple tokens"
   ]
  },
  {
   "cell_type": "code",
   "execution_count": 67,
   "id": "63dcafa4",
   "metadata": {},
   "outputs": [
    {
     "name": "stdout",
     "output_type": "stream",
     "text": [
      "[23:40:39] WARNING: ../src/learner.cc:1061: Starting in XGBoost 1.3.0, the default evaluation metric used with the objective 'binary:logistic' was changed from 'error' to 'logloss'. Explicitly set eval_metric if you'd like to restore the old behavior.\n"
     ]
    },
    {
     "name": "stderr",
     "output_type": "stream",
     "text": [
      "/Users/tylerbell/opt/anaconda3/envs/myenv/lib/python3.8/site-packages/xgboost/sklearn.py:888: UserWarning: The use of label encoder in XGBClassifier is deprecated and will be removed in a future release. To remove this warning, do the following: 1) Pass option use_label_encoder=False when constructing XGBClassifier object; and 2) Encode your labels (y) as integers starting with 0, i.e. 0, 1, 2, ..., [num_class - 1].\n",
      "  warnings.warn(label_encoder_deprecation_msg, UserWarning)\n"
     ]
    },
    {
     "data": {
      "text/plain": [
       "XGBClassifier(base_score=0.5, booster='gbtree', colsample_bylevel=1,\n",
       "              colsample_bynode=1, colsample_bytree=1, gamma=0, gpu_id=-1,\n",
       "              importance_type='gain', interaction_constraints='',\n",
       "              learning_rate=0.300000012, max_delta_step=0, max_depth=6,\n",
       "              min_child_weight=1, missing=nan, monotone_constraints='()',\n",
       "              n_estimators=100, n_jobs=8, num_parallel_tree=1, random_state=0,\n",
       "              reg_alpha=0, reg_lambda=1, scale_pos_weight=1, subsample=1,\n",
       "              tree_method='exact', validate_parameters=1, verbosity=None)"
      ]
     },
     "execution_count": 67,
     "metadata": {},
     "output_type": "execute_result"
    }
   ],
   "source": [
    "classifier = xgb.XGBClassifier()\n",
    "classifier.fit(np.array(X_train),y_train)"
   ]
  },
  {
   "cell_type": "code",
   "execution_count": 70,
   "id": "9ef4516e",
   "metadata": {},
   "outputs": [
    {
     "data": {
      "text/plain": [
       "0.9586983729662076"
      ]
     },
     "execution_count": 70,
     "metadata": {},
     "output_type": "execute_result"
    }
   ],
   "source": [
    "f1_score(classifier.predict(np.array(X_train)),y_train)"
   ]
  },
  {
   "cell_type": "markdown",
   "id": "6ed2cca4",
   "metadata": {},
   "source": [
    "Improvement as to be expected. Now lets try a serious tokenizer with xgBoost"
   ]
  },
  {
   "cell_type": "code",
   "execution_count": 63,
   "id": "222fbc2c",
   "metadata": {},
   "outputs": [],
   "source": [
    "model_checkpoint = \"distilbert-base-uncased\"\n",
    "tokenizer = AutoTokenizer.from_pretrained(model_checkpoint, use_fast=True)\n",
    "\n",
    "X_train = tokenizer(\n",
    "    list(reviews_train), padding = True, truncation = True, max_length = 5)['input_ids']\n",
    "X_test = tokenizer(\n",
    "    list(reviews_test), padding = True, truncation = True, max_length = 5)['input_ids']"
   ]
  },
  {
   "cell_type": "code",
   "execution_count": 64,
   "id": "e5d10814",
   "metadata": {
    "scrolled": true
   },
   "outputs": [
    {
     "name": "stdout",
     "output_type": "stream",
     "text": [
      "[23:39:46] WARNING: ../src/learner.cc:1061: Starting in XGBoost 1.3.0, the default evaluation metric used with the objective 'binary:logistic' was changed from 'error' to 'logloss'. Explicitly set eval_metric if you'd like to restore the old behavior.\n"
     ]
    },
    {
     "name": "stderr",
     "output_type": "stream",
     "text": [
      "/Users/tylerbell/opt/anaconda3/envs/myenv/lib/python3.8/site-packages/xgboost/sklearn.py:888: UserWarning: The use of label encoder in XGBClassifier is deprecated and will be removed in a future release. To remove this warning, do the following: 1) Pass option use_label_encoder=False when constructing XGBClassifier object; and 2) Encode your labels (y) as integers starting with 0, i.e. 0, 1, 2, ..., [num_class - 1].\n",
      "  warnings.warn(label_encoder_deprecation_msg, UserWarning)\n"
     ]
    },
    {
     "data": {
      "text/plain": [
       "XGBClassifier(base_score=0.5, booster='gbtree', colsample_bylevel=1,\n",
       "              colsample_bynode=1, colsample_bytree=1, gamma=0, gpu_id=-1,\n",
       "              importance_type='gain', interaction_constraints='',\n",
       "              learning_rate=0.300000012, max_delta_step=0, max_depth=6,\n",
       "              min_child_weight=1, missing=nan, monotone_constraints='()',\n",
       "              n_estimators=100, n_jobs=8, num_parallel_tree=1, random_state=0,\n",
       "              reg_alpha=0, reg_lambda=1, scale_pos_weight=1, subsample=1,\n",
       "              tree_method='exact', validate_parameters=1, verbosity=None)"
      ]
     },
     "execution_count": 64,
     "metadata": {},
     "output_type": "execute_result"
    }
   ],
   "source": [
    "classifier = xgb.XGBClassifier()\n",
    "classifier.fit(np.array(X_train),y_train)"
   ]
  },
  {
   "cell_type": "code",
   "execution_count": 65,
   "id": "e4eda19d",
   "metadata": {},
   "outputs": [
    {
     "data": {
      "text/plain": [
       "0.5549738219895288"
      ]
     },
     "execution_count": 65,
     "metadata": {},
     "output_type": "execute_result"
    }
   ],
   "source": [
    "prediction = classifier.predict(np.array(X_test))\n",
    "f1_score(prediction, y_test)"
   ]
  }
 ],
 "metadata": {
  "kernelspec": {
   "display_name": "Python 3",
   "language": "python",
   "name": "python3"
  },
  "language_info": {
   "codemirror_mode": {
    "name": "ipython",
    "version": 3
   },
   "file_extension": ".py",
   "mimetype": "text/x-python",
   "name": "python",
   "nbconvert_exporter": "python",
   "pygments_lexer": "ipython3",
   "version": "3.8.8"
  }
 },
 "nbformat": 4,
 "nbformat_minor": 5
}
