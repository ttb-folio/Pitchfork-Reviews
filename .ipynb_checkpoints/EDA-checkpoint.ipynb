{
 "cells": [
  {
   "cell_type": "code",
   "execution_count": 1,
   "id": "0c8a339b",
   "metadata": {},
   "outputs": [],
   "source": [
    "import pandas as pd\n",
    "import numpy as np\n",
    "import matplotlib.pyplot as plt\n",
    "import seaborn as sn\n",
    "from pandas_profiling import ProfileReport"
   ]
  },
  {
   "cell_type": "code",
   "execution_count": 2,
   "id": "eff4850f",
   "metadata": {},
   "outputs": [],
   "source": [
    "#Read in Data\n",
    "artists = pd.read_csv('Data/artists.csv')\n",
    "content = pd.read_csv('Data/content.csv')\n",
    "genres = pd.read_csv('Data/genres.csv')\n",
    "labels = pd.read_csv('Data/labels.csv')\n",
    "reviews = pd.read_csv('Data/reviews.csv')\n",
    "years = pd.read_csv('Data/years.csv')"
   ]
  },
  {
   "cell_type": "code",
   "execution_count": 4,
   "id": "27d8bbdd",
   "metadata": {
    "scrolled": true
   },
   "outputs": [
    {
     "data": {
      "application/vnd.jupyter.widget-view+json": {
       "model_id": "f53f74df7589427892a114c61fbd14c7",
       "version_major": 2,
       "version_minor": 0
      },
      "text/plain": [
       "Summarize dataset:   0%|          | 0/15 [00:00<?, ?it/s]"
      ]
     },
     "metadata": {},
     "output_type": "display_data"
    },
    {
     "data": {
      "application/vnd.jupyter.widget-view+json": {
       "model_id": "ca1ee948584946c6b7b33a2d37fbd8c0",
       "version_major": 2,
       "version_minor": 0
      },
      "text/plain": [
       "Generate report structure:   0%|          | 0/1 [00:00<?, ?it/s]"
      ]
     },
     "metadata": {},
     "output_type": "display_data"
    },
    {
     "data": {
      "application/vnd.jupyter.widget-view+json": {
       "model_id": "50834a6e21214c3ca0fdc76329813d0b",
       "version_major": 2,
       "version_minor": 0
      },
      "text/plain": [
       "Render HTML:   0%|          | 0/1 [00:00<?, ?it/s]"
      ]
     },
     "metadata": {},
     "output_type": "display_data"
    },
    {
     "data": {
      "application/vnd.jupyter.widget-view+json": {
       "model_id": "7de3a86d5c05482f9b3880e87e10e23e",
       "version_major": 2,
       "version_minor": 0
      },
      "text/plain": [
       "Export report to file:   0%|          | 0/1 [00:00<?, ?it/s]"
      ]
     },
     "metadata": {},
     "output_type": "display_data"
    },
    {
     "data": {
      "application/vnd.jupyter.widget-view+json": {
       "model_id": "120c1e9b979a436fa364ad366f4c5090",
       "version_major": 2,
       "version_minor": 0
      },
      "text/plain": [
       "Summarize dataset:   0%|          | 0/15 [00:00<?, ?it/s]"
      ]
     },
     "metadata": {},
     "output_type": "display_data"
    },
    {
     "data": {
      "application/vnd.jupyter.widget-view+json": {
       "model_id": "ec4f89d6ace54d119c1e1a978d5950c8",
       "version_major": 2,
       "version_minor": 0
      },
      "text/plain": [
       "Generate report structure:   0%|          | 0/1 [00:00<?, ?it/s]"
      ]
     },
     "metadata": {},
     "output_type": "display_data"
    },
    {
     "data": {
      "application/vnd.jupyter.widget-view+json": {
       "model_id": "8d1e6cb26fae4ee189bc1a38b6b94a88",
       "version_major": 2,
       "version_minor": 0
      },
      "text/plain": [
       "Render HTML:   0%|          | 0/1 [00:00<?, ?it/s]"
      ]
     },
     "metadata": {},
     "output_type": "display_data"
    },
    {
     "data": {
      "application/vnd.jupyter.widget-view+json": {
       "model_id": "fc1f0228a57b4d6cbe8e7c9c9963b490",
       "version_major": 2,
       "version_minor": 0
      },
      "text/plain": [
       "Export report to file:   0%|          | 0/1 [00:00<?, ?it/s]"
      ]
     },
     "metadata": {},
     "output_type": "display_data"
    },
    {
     "data": {
      "application/vnd.jupyter.widget-view+json": {
       "model_id": "6bcc0a5b7c4041f2996af1a0b436a0bb",
       "version_major": 2,
       "version_minor": 0
      },
      "text/plain": [
       "Summarize dataset:   0%|          | 0/15 [00:00<?, ?it/s]"
      ]
     },
     "metadata": {},
     "output_type": "display_data"
    },
    {
     "data": {
      "application/vnd.jupyter.widget-view+json": {
       "model_id": "0f1e46d6baa64786a75dca07239e0e60",
       "version_major": 2,
       "version_minor": 0
      },
      "text/plain": [
       "Generate report structure:   0%|          | 0/1 [00:00<?, ?it/s]"
      ]
     },
     "metadata": {},
     "output_type": "display_data"
    },
    {
     "data": {
      "application/vnd.jupyter.widget-view+json": {
       "model_id": "66b68bc7e336444bb7b3389f19481a60",
       "version_major": 2,
       "version_minor": 0
      },
      "text/plain": [
       "Render HTML:   0%|          | 0/1 [00:00<?, ?it/s]"
      ]
     },
     "metadata": {},
     "output_type": "display_data"
    },
    {
     "data": {
      "application/vnd.jupyter.widget-view+json": {
       "model_id": "a94167df0aa94080a7941270d45bc55a",
       "version_major": 2,
       "version_minor": 0
      },
      "text/plain": [
       "Export report to file:   0%|          | 0/1 [00:00<?, ?it/s]"
      ]
     },
     "metadata": {},
     "output_type": "display_data"
    },
    {
     "data": {
      "application/vnd.jupyter.widget-view+json": {
       "model_id": "45a9fdfa77ea46159641adc51107d2c5",
       "version_major": 2,
       "version_minor": 0
      },
      "text/plain": [
       "Summarize dataset:   0%|          | 0/15 [00:00<?, ?it/s]"
      ]
     },
     "metadata": {},
     "output_type": "display_data"
    },
    {
     "data": {
      "application/vnd.jupyter.widget-view+json": {
       "model_id": "6914b428535b4118b1dd24f814ec02bb",
       "version_major": 2,
       "version_minor": 0
      },
      "text/plain": [
       "Generate report structure:   0%|          | 0/1 [00:00<?, ?it/s]"
      ]
     },
     "metadata": {},
     "output_type": "display_data"
    },
    {
     "data": {
      "application/vnd.jupyter.widget-view+json": {
       "model_id": "ac05ed336e0b49ca95a88ad0a16bc9b1",
       "version_major": 2,
       "version_minor": 0
      },
      "text/plain": [
       "Render HTML:   0%|          | 0/1 [00:00<?, ?it/s]"
      ]
     },
     "metadata": {},
     "output_type": "display_data"
    },
    {
     "data": {
      "application/vnd.jupyter.widget-view+json": {
       "model_id": "5814a77c2fdd444dbf54e0cdf94933fb",
       "version_major": 2,
       "version_minor": 0
      },
      "text/plain": [
       "Export report to file:   0%|          | 0/1 [00:00<?, ?it/s]"
      ]
     },
     "metadata": {},
     "output_type": "display_data"
    },
    {
     "data": {
      "application/vnd.jupyter.widget-view+json": {
       "model_id": "7833877e157e49fcbe4dca1c32883148",
       "version_major": 2,
       "version_minor": 0
      },
      "text/plain": [
       "Summarize dataset:   0%|          | 0/26 [00:00<?, ?it/s]"
      ]
     },
     "metadata": {},
     "output_type": "display_data"
    },
    {
     "data": {
      "application/vnd.jupyter.widget-view+json": {
       "model_id": "966404997ac3465eaf97e87446c1976c",
       "version_major": 2,
       "version_minor": 0
      },
      "text/plain": [
       "Generate report structure:   0%|          | 0/1 [00:00<?, ?it/s]"
      ]
     },
     "metadata": {},
     "output_type": "display_data"
    },
    {
     "data": {
      "application/vnd.jupyter.widget-view+json": {
       "model_id": "5e8f4dc737d440b190f0f5d8d0a488e0",
       "version_major": 2,
       "version_minor": 0
      },
      "text/plain": [
       "Render HTML:   0%|          | 0/1 [00:00<?, ?it/s]"
      ]
     },
     "metadata": {},
     "output_type": "display_data"
    },
    {
     "data": {
      "application/vnd.jupyter.widget-view+json": {
       "model_id": "1533a2fb23bd4021a912d335afaa274a",
       "version_major": 2,
       "version_minor": 0
      },
      "text/plain": [
       "Export report to file:   0%|          | 0/1 [00:00<?, ?it/s]"
      ]
     },
     "metadata": {},
     "output_type": "display_data"
    },
    {
     "data": {
      "application/vnd.jupyter.widget-view+json": {
       "model_id": "85ea434421e24876b74fbc3816cd942c",
       "version_major": 2,
       "version_minor": 0
      },
      "text/plain": [
       "Summarize dataset:   0%|          | 0/15 [00:00<?, ?it/s]"
      ]
     },
     "metadata": {},
     "output_type": "display_data"
    },
    {
     "data": {
      "application/vnd.jupyter.widget-view+json": {
       "model_id": "124412e809f84f55b6ab8e0b94d21a4d",
       "version_major": 2,
       "version_minor": 0
      },
      "text/plain": [
       "Generate report structure:   0%|          | 0/1 [00:00<?, ?it/s]"
      ]
     },
     "metadata": {},
     "output_type": "display_data"
    },
    {
     "data": {
      "application/vnd.jupyter.widget-view+json": {
       "model_id": "1222c6bd5de74c0f8ee43a026bc749ad",
       "version_major": 2,
       "version_minor": 0
      },
      "text/plain": [
       "Render HTML:   0%|          | 0/1 [00:00<?, ?it/s]"
      ]
     },
     "metadata": {},
     "output_type": "display_data"
    },
    {
     "data": {
      "application/vnd.jupyter.widget-view+json": {
       "model_id": "ca25840c8d57493c93f22a7a205e2491",
       "version_major": 2,
       "version_minor": 0
      },
      "text/plain": [
       "Export report to file:   0%|          | 0/1 [00:00<?, ?it/s]"
      ]
     },
     "metadata": {},
     "output_type": "display_data"
    }
   ],
   "source": [
    "#Write out Profile Reports so as not to crowd the notebook\n",
    "ProfileReport(artists).to_file('Reports/artistsReport.html')\n",
    "ProfileReport(content).to_file('Reports/contentReport.html')\n",
    "ProfileReport(genres).to_file('Reports/genresReport.html')\n",
    "ProfileReport(labels).to_file('Reports/labelsReport.html')\n",
    "ProfileReport(reviews).to_file('Reports/reviewsReport.html')\n",
    "ProfileReport(years).to_file('Reports/yearsReport.html')\n",
    "#When not local, you can view the html files by going to htmlpreview.github.io"
   ]
  },
  {
   "cell_type": "markdown",
   "id": "58d6e34e",
   "metadata": {},
   "source": [
    "Things of note:\n",
    "\n",
    "While the majority of artists only have one album reviewed, some artists such as Neil Young, and David Bowie have more than one review associated with them (one artist, multiple projects). And on the other end some reviews have multiple artists associated (one project, multiple artists).\n",
    "\n",
    "Each review is quite long, spanning multiple paragraphs. Potential for interesting NLP analysis.\n",
    "\n",
    "The categories of genre are rock, electronic, experimental, rap, pop/r&b, metal, folk/country, jazz, and global.\n",
    "\n",
    "The biggest label was no label, as in \"self-released\". Second is \"drag city\"\n",
    "\n",
    "The oldest album reviewed is from 1959. It may be interesting to plot publication year of review, over year album released. Would expect an upward trend but may not be as 1:1 as one might think.\n",
    "\n",
    "The scores have a mean of 7 with a long left tail. It almost looks normal around the mean.\n",
    "\n",
    "Only 941 of the 18,372 reviews received a \"best new music\" award. Potential for a classification task but there is a heavy class imbalance.\n",
    "\n",
    "Only 432 unique writers for all of these reviews."
   ]
  },
  {
   "cell_type": "markdown",
   "id": "b213ce16",
   "metadata": {},
   "source": [
    "Graph Time!"
   ]
  },
  {
   "cell_type": "code",
   "execution_count": 42,
   "id": "2a345ace",
   "metadata": {},
   "outputs": [
    {
     "name": "stdout",
     "output_type": "stream",
     "text": [
      "The label with the longest name is: ['history always favours the winners']\n",
      "The labels with the shortest names are: ['a' 'k' 'j']\n"
     ]
    }
   ],
   "source": [
    "vectorized_len = np.vectorize(lambda x: len(str(x)))\n",
    "labels['name_length'] = vectorized_len(labels['label'])\n",
    "\n",
    "longest_label = labels[labels.name_length == max(labels.name_length)].label.unique()\n",
    "shortest_label = labels[labels.name_length == min(labels.name_length)].label.unique()\n",
    "\n",
    "print(f'The label with the longest name is: {longest_label}')\n",
    "print(f'The labels with the shortest names are: {shortest_label}')"
   ]
  },
  {
   "cell_type": "code",
   "execution_count": 79,
   "id": "8082e125",
   "metadata": {},
   "outputs": [
    {
     "data": {
      "image/png": "[encoded data removed]",
      "text/plain": [
       "<Figure size 432x288 with 1 Axes>"
      ]
     },
     "metadata": {
      "needs_background": "light"
     },
     "output_type": "display_data"
    }
   ],
   "source": [
    "label_length_distr = labels[labels.label.isin(labels.label.unique())].name_length\n",
    "ax = sn.boxplot(x = label_length_distr)\n",
    "ax.set_xlabel(\"Number of Characters in Label Name\")\n",
    "plt.show()"
   ]
  },
  {
   "cell_type": "code",
   "execution_count": 84,
   "id": "0e13873c",
   "metadata": {},
   "outputs": [
    {
     "data": {
      "image/png": "[encoded data removed]",
      "text/plain": [
       "<Figure size 432x288 with 1 Axes>"
      ]
     },
     "metadata": {
      "needs_background": "light"
     },
     "output_type": "display_data"
    }
   ],
   "source": [
    "num_reviews_per_label = labels.groupby('label').agg({'reviewid':'count'})\n",
    "\n",
    "ax = sn.histplot(x = np.log10(num_reviews_per_label['reviewid']))\n",
    "ax.set_ylabel(\"Number of Labels\")\n",
    "ax.set_xlabel(\"Number of Albums that Pitchfork Reviewed(log Scale)\")\n",
    "plt.show()"
   ]
  },
  {
   "cell_type": "code",
   "execution_count": 71,
   "id": "d4d8cdeb",
   "metadata": {},
   "outputs": [
    {
     "name": "stdout",
     "output_type": "stream",
     "text": [
      "Of 3662 labels, 1633 had more than one album reviewed\n"
     ]
    }
   ],
   "source": [
    "num_labels = len(num_reviews_per_label)\n",
    "num_labels_multiple_reviews = sum(num_reviews_per_label['reviewid'] != 1)\n",
    "print(f'Of {num_labels} labels, {num_labels_multiple_reviews} had more than one album reviewed')"
   ]
  },
  {
   "cell_type": "code",
   "execution_count": null,
   "id": "7c777855",
   "metadata": {},
   "outputs": [],
   "source": []
  }
 ],
 "metadata": {
  "kernelspec": {
   "display_name": "Python 3",
   "language": "python",
   "name": "python3"
  },
  "language_info": {
   "codemirror_mode": {
    "name": "ipython",
    "version": 3
   },
   "file_extension": ".py",
   "mimetype": "text/x-python",
   "name": "python",
   "nbconvert_exporter": "python",
   "pygments_lexer": "ipython3",
   "version": "3.8.8"
  }
 },
 "nbformat": 4,
 "nbformat_minor": 5
}
