{
 "cells": [
  {
   "cell_type": "code",
   "execution_count": 1,
   "id": "1e13e838",
   "metadata": {},
   "outputs": [],
   "source": [
    "import pandas as pd\n",
    "import numpy as np\n",
    "from sklearn.model_selection import train_test_split\n",
    "from sklearn.feature_extraction.text import CountVectorizer\n",
    "from sklearn.dummy import DummyClassifier\n",
    "from sklearn.linear_model import LogisticRegression\n",
    "from sklearn.metrics import log_loss, confusion_matrix"
   ]
  },
  {
   "cell_type": "code",
   "execution_count": 3,
   "id": "0c948184",
   "metadata": {},
   "outputs": [],
   "source": [
    "q2 = review_df.score.quantile(0.5)\n",
    "q1 = review_df.score.quantile(0.25)\n",
    "q3 = review_df.score.quantile(0.75)\n",
    "\n",
    "def binary_classification(score):\n",
    "    if score <= q2:\n",
    "        return 0 #bad\n",
    "    else:\n",
    "        return 1 #great\n",
    "def finer_classification(score):\n",
    "    if score <= q1: \n",
    "        return 0 #bad\n",
    "    elif score <= q2:\n",
    "        return 1 #poor\n",
    "    elif score <= q3:\n",
    "        return 2 #good\n",
    "    else:\n",
    "        return 3 #great"
   ]
  },
  {
   "cell_type": "code",
   "execution_count": 4,
   "id": "08e4081c",
   "metadata": {},
   "outputs": [],
   "source": [
    "content_df = pd.read_csv('Data/content.csv')\n",
    "review_df = pd.read_csv('Data/reviews.csv')\n",
    "text = content_df.content.fillna(' ').values\n",
    "labels = review_df.score.apply(lambda x: binary_classification(x))"
   ]
  },
  {
   "cell_type": "code",
   "execution_count": 5,
   "id": "738c9d04",
   "metadata": {},
   "outputs": [],
   "source": [
    "text_train, text_test, y_train, y_test = train_test_split(text, labels, test_size=0.2, random_state=1000)"
   ]
  },
  {
   "cell_type": "code",
   "execution_count": 6,
   "id": "38cdf902",
   "metadata": {},
   "outputs": [],
   "source": [
    "#Tokenize Review Content\n",
    "tokenizer = CountVectorizer()\n",
    "x_train = tokenizer.fit_transform(text_train)\n",
    "x_test = tokenizer.transform(text_test)"
   ]
  },
  {
   "cell_type": "code",
   "execution_count": null,
   "id": "87acd0c3",
   "metadata": {},
   "outputs": [],
   "source": [
    "import xgboost as xgb\n",
    "\n",
    "classifier = xgb.XGBClassifier(use_label_encoder=False)\n",
    "classifier.fit(x_train.toarray(),y_train)"
   ]
  },
  {
   "cell_type": "code",
   "execution_count": null,
   "id": "d0bc3503",
   "metadata": {},
   "outputs": [],
   "source": [
    "print(f'\\nxgb Log Loss: {log_loss(y_test, classifier.predict_proba(x_test))}')\n",
    "print(f'\\nxgb Confusion Matrix:\\n {confusion_matrix(y_test, classifier.predict(x_test))}')"
   ]
  },
  {
   "cell_type": "code",
   "execution_count": 138,
   "id": "8b20eb13",
   "metadata": {},
   "outputs": [
    {
     "name": "stdout",
     "output_type": "stream",
     "text": [
      "\n",
      "Random Log Loss: 1.3862943611198904\n",
      "\n",
      "Random Confusion Matrix:\n",
      " [[220 233 242 243]\n",
      " [232 226 217 260]\n",
      " [223 227 243 233]\n",
      " [214 235 205 222]]\n",
      "\n",
      "LR Log Loss: 2.2102926354774817\n",
      "\n",
      "LR Confusion Matrix:\n",
      " [[538 217 109  74]\n",
      " [226 328 248 133]\n",
      " [106 269 341 210]\n",
      " [ 64 140 242 430]]\n"
     ]
    },
    {
     "name": "stderr",
     "output_type": "stream",
     "text": [
      "/Users/tylerbell/opt/anaconda3/envs/myenv/lib/python3.8/site-packages/sklearn/linear_model/_logistic.py:763: ConvergenceWarning: lbfgs failed to converge (status=1):\n",
      "STOP: TOTAL NO. of ITERATIONS REACHED LIMIT.\n",
      "\n",
      "Increase the number of iterations (max_iter) or scale the data as shown in:\n",
      "    https://scikit-learn.org/stable/modules/preprocessing.html\n",
      "Please also refer to the documentation for alternative solver options:\n",
      "    https://scikit-learn.org/stable/modules/linear_model.html#logistic-regression\n",
      "  n_iter_i = _check_optimize_result(\n"
     ]
    }
   ],
   "source": [
    "#Finer Case\n",
    "classifier = DummyClassifier(strategy = 'uniform')\n",
    "classifier.fit(x_train, y_train)\n",
    "\n",
    "print(f'\\nRandom Log Loss: {log_loss(y_test, classifier.predict_proba(x_test))}')\n",
    "print(f'\\nRandom Confusion Matrix:\\n {confusion_matrix(y_test, classifier.predict(x_test))}')\n",
    "\n",
    "classifier = LogisticRegression(max_iter = 1000)\n",
    "classifier.fit(x_train, y_train)\n",
    "print(f'\\nLR Log Loss: {log_loss(y_test, classifier.predict_proba(x_test))}')\n",
    "print(f'\\nLR Confusion Matrix:\\n {confusion_matrix(y_test, classifier.predict(x_test))}')"
   ]
  },
  {
   "cell_type": "code",
   "execution_count": 134,
   "id": "a5b3402e",
   "metadata": {},
   "outputs": [
    {
     "name": "stdout",
     "output_type": "stream",
     "text": [
      "\n",
      "Random Log Loss: 0.6931471805599452\n",
      "\n",
      "Random Confusion Matrix:\n",
      " [[960 913]\n",
      " [903 899]]\n",
      "\n",
      "LR Log Loss: 0.993460480086278\n",
      "\n",
      "LR Confusion Matrix:\n",
      " [[1335  538]\n",
      " [ 546 1256]]\n"
     ]
    },
    {
     "name": "stderr",
     "output_type": "stream",
     "text": [
      "/Users/tylerbell/opt/anaconda3/envs/myenv/lib/python3.8/site-packages/sklearn/linear_model/_logistic.py:763: ConvergenceWarning: lbfgs failed to converge (status=1):\n",
      "STOP: TOTAL NO. of ITERATIONS REACHED LIMIT.\n",
      "\n",
      "Increase the number of iterations (max_iter) or scale the data as shown in:\n",
      "    https://scikit-learn.org/stable/modules/preprocessing.html\n",
      "Please also refer to the documentation for alternative solver options:\n",
      "    https://scikit-learn.org/stable/modules/linear_model.html#logistic-regression\n",
      "  n_iter_i = _check_optimize_result(\n"
     ]
    }
   ],
   "source": [
    "#Binary Case\n",
    "classifier = DummyClassifier(strategy = 'uniform')\n",
    "classifier.fit(x_train, y_train)\n",
    "\n",
    "print(f'\\nRandom Log Loss: {log_loss(y_test, classifier.predict_proba(x_test))}')\n",
    "print(f'\\nRandom Confusion Matrix:\\n {confusion_matrix(y_test, classifier.predict(x_test))}')\n",
    "\n",
    "classifier = LogisticRegression(max_iter = 1000)\n",
    "classifier.fit(x_train, y_train)\n",
    "print(f'\\nLR Log Loss: {log_loss(y_test, classifier.predict_proba(x_test))}')\n",
    "print(f'\\nLR Confusion Matrix:\\n {confusion_matrix(y_test, classifier.predict(x_test))}')"
   ]
  },
  {
   "cell_type": "code",
   "execution_count": null,
   "id": "2fcae550",
   "metadata": {},
   "outputs": [],
   "source": []
  }
 ],
 "metadata": {
  "kernelspec": {
   "display_name": "Python 3",
   "language": "python",
   "name": "python3"
  },
  "language_info": {
   "codemirror_mode": {
    "name": "ipython",
    "version": 3
   },
   "file_extension": ".py",
   "mimetype": "text/x-python",
   "name": "python",
   "nbconvert_exporter": "python",
   "pygments_lexer": "ipython3",
   "version": "3.8.8"
  }
 },
 "nbformat": 4,
 "nbformat_minor": 5
}
