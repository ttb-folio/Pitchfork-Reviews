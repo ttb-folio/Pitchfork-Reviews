{
 "cells": [
  {
   "cell_type": "code",
   "execution_count": 15,
   "id": "9d2a9a3d",
   "metadata": {},
   "outputs": [],
   "source": [
    "import sqlite3 as sql\n",
    "import pandas as pd\n",
    "\n",
    "fileName = 'Data/pf_reviews.sqlite'\n",
    "\n",
    "conn = sql.connect(fileName)\n",
    "\n",
    "artists = pd.read_sql_query('SELECT * FROM artists', conn)\n",
    "content = pd.read_sql_query('SELECT * FROM content', conn)\n",
    "genres = pd.read_sql_query('SELECT * FROM genres', conn)\n",
    "labels = pd.read_sql_query('SELECT * FROM labels', conn)\n",
    "reviews = pd.read_sql_query('SELECT * FROM reviews', conn)\n",
    "years = pd.read_sql_query('SELECT * FROM years', conn)\n",
    "\n",
    "conn.close()"
   ]
  },
  {
   "cell_type": "code",
   "execution_count": 16,
   "id": "643f999d",
   "metadata": {},
   "outputs": [],
   "source": [
    "#Remove Duplicate Rows\n",
    "for df in [artists, content, genres, labels, reviews, years]:\n",
    "    df.drop_duplicates(inplace = True)"
   ]
  },
  {
   "cell_type": "code",
   "execution_count": 17,
   "id": "234dd14a",
   "metadata": {},
   "outputs": [],
   "source": [
    "#Remove the 15 Reviews written in 2017\n",
    "no_2017 = reviews[reviews.pub_year != 2017]['reviewid']\n",
    "#Not using a for loop because of scoping\n",
    "artists = artists[artists.reviewid.isin(no_2017)]\n",
    "content = content[content.reviewid.isin(no_2017)]\n",
    "genres = genres[genres.reviewid.isin(no_2017)]\n",
    "labels = labels[labels.reviewid.isin(no_2017)]\n",
    "reviews = reviews[reviews.reviewid.isin(no_2017)]\n",
    "years = years[years.reviewid.isin(no_2017)]"
   ]
  },
  {
   "cell_type": "code",
   "execution_count": 18,
   "id": "179598a0",
   "metadata": {},
   "outputs": [
    {
     "data": {
      "text/html": [
       "<div>\n",
       "<style scoped>\n",
       "    .dataframe tbody tr th:only-of-type {\n",
       "        vertical-align: middle;\n",
       "    }\n",
       "\n",
       "    .dataframe tbody tr th {\n",
       "        vertical-align: top;\n",
       "    }\n",
       "\n",
       "    .dataframe thead th {\n",
       "        text-align: right;\n",
       "    }\n",
       "</style>\n",
       "<table border=\"1\" class=\"dataframe\">\n",
       "  <thead>\n",
       "    <tr style=\"text-align: right;\">\n",
       "      <th></th>\n",
       "      <th>reviewid</th>\n",
       "      <th>artist</th>\n",
       "    </tr>\n",
       "  </thead>\n",
       "  <tbody>\n",
       "    <tr>\n",
       "      <th>19</th>\n",
       "      <td>22719</td>\n",
       "      <td>chance the rapper</td>\n",
       "    </tr>\n",
       "    <tr>\n",
       "      <th>20</th>\n",
       "      <td>22719</td>\n",
       "      <td>jeremih</td>\n",
       "    </tr>\n",
       "    <tr>\n",
       "      <th>21</th>\n",
       "      <td>22667</td>\n",
       "      <td>jamire williams</td>\n",
       "    </tr>\n",
       "    <tr>\n",
       "      <th>22</th>\n",
       "      <td>22691</td>\n",
       "      <td>the-dream</td>\n",
       "    </tr>\n",
       "    <tr>\n",
       "      <th>23</th>\n",
       "      <td>22702</td>\n",
       "      <td>worm ouroboros</td>\n",
       "    </tr>\n",
       "  </tbody>\n",
       "</table>\n",
       "</div>"
      ],
      "text/plain": [
       "    reviewid             artist\n",
       "19     22719  chance the rapper\n",
       "20     22719            jeremih\n",
       "21     22667    jamire williams\n",
       "22     22691          the-dream\n",
       "23     22702     worm ouroboros"
      ]
     },
     "execution_count": 18,
     "metadata": {},
     "output_type": "execute_result"
    }
   ],
   "source": [
    "artists.head()"
   ]
  },
  {
   "cell_type": "code",
   "execution_count": 23,
   "id": "a28410bc",
   "metadata": {},
   "outputs": [],
   "source": [
    "#Write to csv for further work\n",
    "\n",
    "artists.to_csv('Data/artists.csv', index = False)\n",
    "content.to_csv('Data/content.csv', index = False)\n",
    "genres.to_csv('Data/genres.csv', index = False)\n",
    "labels.to_csv('Data/labels.csv', index = False)\n",
    "reviews.to_csv('Data/reviews.csv', index = False)\n",
    "years.to_csv('Data/years.csv', index = False)"
   ]
  }
 ],
 "metadata": {
  "kernelspec": {
   "display_name": "Python 3",
   "language": "python",
   "name": "python3"
  },
  "language_info": {
   "codemirror_mode": {
    "name": "ipython",
    "version": 3
   },
   "file_extension": ".py",
   "mimetype": "text/x-python",
   "name": "python",
   "nbconvert_exporter": "python",
   "pygments_lexer": "ipython3",
   "version": "3.8.8"
  }
 },
 "nbformat": 4,
 "nbformat_minor": 5
}
